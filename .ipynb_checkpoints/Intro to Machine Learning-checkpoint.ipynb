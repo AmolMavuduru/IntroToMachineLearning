{
 "cells": [
  {
   "cell_type": "markdown",
   "metadata": {
    "nbpresent": {
     "id": "5800368e-3752-4a7a-a6e0-a2df56fb0faa"
    }
   },
   "source": [
    "# Introduction to Machine Learning\n",
    "\n",
    "This Jupyter notebook was created for the 2017 AIS Intro to Machine Learning workshop and is designed to not only explain how the most common algorithms work, but also how to use Python libraries to train these algorithms to generate predictions from real datasets."
   ]
  },
  {
   "cell_type": "markdown",
   "metadata": {},
   "source": [
    "## What is Machine Learning?\n",
    "\n",
    "Machine learning is an area in AI that is focused on using mathematical and statistical techniques to \"give computers the ability to learn\" without being programmed explicitly. For example, while it is not possible to come up with a 100% accurate deterministic algorithm that can differentiate between an image of a dog or a cat, it is possible to use machine learning to enable a machine to predict based on data whether an image contains a dog or a cat.\n",
    "\n",
    "## When to Use Machine Learning\n",
    "\n",
    "Machine learning is not for problems where we need a deterministic algorithm or an exact solution, but for problems where need to make predictions or come up with approximations. Several problems such as image classification or sentiment analysis that cannot be solved with a deterministic algorithm can be solved \"approximately\" with machine learning."
   ]
  },
  {
   "cell_type": "markdown",
   "metadata": {
    "nbpresent": {
     "id": "40b45abd-88cc-4dc0-bda5-1fe9c5c296c5"
    }
   },
   "source": [
    "## Types of Machine Learning\n",
    "\n",
    "- **Supervised learning**: used to describe algorithms that train on data with given labels or target values to develop models that can generalize to unseen data. This approach can be described as \"learning from labeled examples\". This is like preparing for a test with sample problems and answers already given. \n",
    "- **Unsupervised learning**: used to describe algorithms that train on data without given labels or target values. The most common example is clustering. Say you are given multiple data points that represent dogs or cats but your algorithm does not know which point is a dog and which is a cat. Then the algorithm will have to rely on unsupervised techniques to separate the points into two classes.\n",
    "- **Semi-supervised learning**: falls somewhere between supervised and unsupervised learning.\n",
    "\n",
    "### Types of Problems\n",
    "- **Classification**: The goal is to train a model to identify a data point as belonging to a certain discrete class from a set of possible classes. Example: training a model to classify images as containing cars, planes, cats, frogs, dogs, etc.\n",
    "- **Regression**: The goal is to train a model to use features to predict a continouous outcome or target variable. Example: training a model to predict the stock prices of a company based on many different factors.\n",
    "- **Clustering**: The goal is to separate data points into groups based on similar characteristics."
   ]
  },
  {
   "cell_type": "markdown",
   "metadata": {},
   "source": [
    "## Getting Set Up\n",
    "\n",
    "In this notebook, we will be using various Python libraries to train and test machine learning algorithms on datasets. The following software tools/libraries are necessary for this tutorial:\n",
    "\n",
    "- **Python** (>= 2.7 or >= 3.3) (If you have 2.7 or 3.3 or higher either should be fine)\n",
    "- **numpy** (for linear algebra)\n",
    "- **pandas** (For working with datasets)\n",
    "- **scipy** (For math/linear algebra)\n",
    "- **scikit-learn** (for machine learning algorithms)\n",
    "\n",
    "I would recommend having numpy installed and then installing scikit-learn using pip since that will install any other missing dependencies for you if necessary. \n",
    "\n",
    "To install a library with pip you can just go to your terminal and give the following command:\n",
    "\n",
    "**pip install library_name**\n",
    "\n",
    "For example, to install numpy you can just type:\n",
    "\n",
    "**pip install numpy**\n",
    "\n",
    "And to install scikit-learn you can type:\n",
    "\n",
    "**pip install sklearn**\n",
    "\n",
    "###  Optional libraries (for cool plots!)\n",
    "I will be using these libraries throughout this tutorial to visualize the data, but you don't need these to run machine learning algorithms:\n",
    "\n",
    "- **Matplotlib**\n",
    "- **Seaborn**"
   ]
  },
  {
   "cell_type": "markdown",
   "metadata": {},
   "source": [
    "## Importing Libraries\n",
    "\n",
    "Here we will import the libraries that we will need for now."
   ]
  },
  {
   "cell_type": "code",
   "execution_count": 1,
   "metadata": {
    "collapsed": true
   },
   "outputs": [],
   "source": [
    "import numpy as np\n",
    "import pandas as pd\n",
    "import sklearn\n",
    "\n",
    "# The libraries below are optional:\n",
    "import matplotlib.pyplot as plt # plt is a short name we can use to refer to this library\n",
    "import seaborn as sns # sns is a short name we can use to refer to this library\n",
    "%matplotlib inline"
   ]
  },
  {
   "cell_type": "markdown",
   "metadata": {},
   "source": [
    "## Reading in the Data"
   ]
  },
  {
   "cell_type": "markdown",
   "metadata": {
    "collapsed": true
   },
   "source": [
    "For this part of the tutorial, we will be using a classic dataset that contains information about passengers on \n",
    "the Titanic and tells us whether or not they survived. Our goal is to build an accurate machine learning model that can determine, based on some information about a passenger, whether or not that passenger survived the Titanic. This dataset is available in the Github repo for this tutorial and you can also download it from here:\n",
    "\n",
    "http://web.stanford.edu/class/archive/cs/cs109/cs109.1166/problem12.html\n"
   ]
  },
  {
   "cell_type": "markdown",
   "metadata": {
    "collapsed": true
   },
   "source": [
    "### Using Pandas to read and process data from CSV file\n",
    "\n",
    "Pandas is a powerful library that allows us to create dataframe objects by reading in data from multiple sources, including CSV files and HTML tables. Pandas also allows us to process, query, and perform other operations on a dataframe object. We will begin by creating a dataframe called \"titanic_data\" by reading in the data from a CSV file called \"titanic.csv\"."
   ]
  },
  {
   "cell_type": "code",
   "execution_count": 2,
   "metadata": {
    "collapsed": false
   },
   "outputs": [],
   "source": [
    "titanic_data = pd.read_csv(\"titanic.csv\")"
   ]
  },
  {
   "cell_type": "markdown",
   "metadata": {},
   "source": [
    "Now that we have created a dataframe, we can take a look at its contents with the head() function."
   ]
  },
  {
   "cell_type": "code",
   "execution_count": 3,
   "metadata": {
    "collapsed": false
   },
   "outputs": [
    {
     "data": {
      "text/html": [
       "<div>\n",
       "<table border=\"1\" class=\"dataframe\">\n",
       "  <thead>\n",
       "    <tr style=\"text-align: right;\">\n",
       "      <th></th>\n",
       "      <th>Survived</th>\n",
       "      <th>Pclass</th>\n",
       "      <th>Name</th>\n",
       "      <th>Sex</th>\n",
       "      <th>Age</th>\n",
       "      <th>Siblings/Spouses Aboard</th>\n",
       "      <th>Parents/Children Aboard</th>\n",
       "      <th>Fare</th>\n",
       "    </tr>\n",
       "  </thead>\n",
       "  <tbody>\n",
       "    <tr>\n",
       "      <th>0</th>\n",
       "      <td>0</td>\n",
       "      <td>3</td>\n",
       "      <td>Mr. Owen Harris Braund</td>\n",
       "      <td>male</td>\n",
       "      <td>22.0</td>\n",
       "      <td>1</td>\n",
       "      <td>0</td>\n",
       "      <td>7.2500</td>\n",
       "    </tr>\n",
       "    <tr>\n",
       "      <th>1</th>\n",
       "      <td>1</td>\n",
       "      <td>1</td>\n",
       "      <td>Mrs. John Bradley (Florence Briggs Thayer) Cum...</td>\n",
       "      <td>female</td>\n",
       "      <td>38.0</td>\n",
       "      <td>1</td>\n",
       "      <td>0</td>\n",
       "      <td>71.2833</td>\n",
       "    </tr>\n",
       "    <tr>\n",
       "      <th>2</th>\n",
       "      <td>1</td>\n",
       "      <td>3</td>\n",
       "      <td>Miss. Laina Heikkinen</td>\n",
       "      <td>female</td>\n",
       "      <td>26.0</td>\n",
       "      <td>0</td>\n",
       "      <td>0</td>\n",
       "      <td>7.9250</td>\n",
       "    </tr>\n",
       "    <tr>\n",
       "      <th>3</th>\n",
       "      <td>1</td>\n",
       "      <td>1</td>\n",
       "      <td>Mrs. Jacques Heath (Lily May Peel) Futrelle</td>\n",
       "      <td>female</td>\n",
       "      <td>35.0</td>\n",
       "      <td>1</td>\n",
       "      <td>0</td>\n",
       "      <td>53.1000</td>\n",
       "    </tr>\n",
       "    <tr>\n",
       "      <th>4</th>\n",
       "      <td>0</td>\n",
       "      <td>3</td>\n",
       "      <td>Mr. William Henry Allen</td>\n",
       "      <td>male</td>\n",
       "      <td>35.0</td>\n",
       "      <td>0</td>\n",
       "      <td>0</td>\n",
       "      <td>8.0500</td>\n",
       "    </tr>\n",
       "  </tbody>\n",
       "</table>\n",
       "</div>"
      ],
      "text/plain": [
       "   Survived  Pclass                                               Name  \\\n",
       "0         0       3                             Mr. Owen Harris Braund   \n",
       "1         1       1  Mrs. John Bradley (Florence Briggs Thayer) Cum...   \n",
       "2         1       3                              Miss. Laina Heikkinen   \n",
       "3         1       1        Mrs. Jacques Heath (Lily May Peel) Futrelle   \n",
       "4         0       3                            Mr. William Henry Allen   \n",
       "\n",
       "      Sex   Age  Siblings/Spouses Aboard  Parents/Children Aboard     Fare  \n",
       "0    male  22.0                        1                        0   7.2500  \n",
       "1  female  38.0                        1                        0  71.2833  \n",
       "2  female  26.0                        0                        0   7.9250  \n",
       "3  female  35.0                        1                        0  53.1000  \n",
       "4    male  35.0                        0                        0   8.0500  "
      ]
     },
     "execution_count": 3,
     "metadata": {},
     "output_type": "execute_result"
    }
   ],
   "source": [
    "titanic_data.head()"
   ]
  },
  {
   "cell_type": "markdown",
   "metadata": {},
   "source": [
    "If we want to get information about the type of data in each column we can call the info() function."
   ]
  },
  {
   "cell_type": "code",
   "execution_count": 4,
   "metadata": {
    "collapsed": false
   },
   "outputs": [
    {
     "name": "stdout",
     "output_type": "stream",
     "text": [
      "<class 'pandas.core.frame.DataFrame'>\n",
      "RangeIndex: 887 entries, 0 to 886\n",
      "Data columns (total 8 columns):\n",
      "Survived                   887 non-null int64\n",
      "Pclass                     887 non-null int64\n",
      "Name                       887 non-null object\n",
      "Sex                        887 non-null object\n",
      "Age                        887 non-null float64\n",
      "Siblings/Spouses Aboard    887 non-null int64\n",
      "Parents/Children Aboard    887 non-null int64\n",
      "Fare                       887 non-null float64\n",
      "dtypes: float64(2), int64(4), object(2)\n",
      "memory usage: 55.5+ KB\n"
     ]
    }
   ],
   "source": [
    "titanic_data.info()"
   ]
  },
  {
   "cell_type": "markdown",
   "metadata": {},
   "source": [
    "As you can see, this is relatively small dataset (perfect for beginners!) with only 887 entries and only 8 columns. One of the convenient things about pandas is that we can select different columns of this dataframe object and perform functions on these columns in very simple syntax. For example:"
   ]
  },
  {
   "cell_type": "code",
   "execution_count": 5,
   "metadata": {
    "collapsed": false
   },
   "outputs": [
    {
     "data": {
      "text/html": [
       "<div>\n",
       "<table border=\"1\" class=\"dataframe\">\n",
       "  <thead>\n",
       "    <tr style=\"text-align: right;\">\n",
       "      <th></th>\n",
       "      <th>Name</th>\n",
       "      <th>Age</th>\n",
       "    </tr>\n",
       "  </thead>\n",
       "  <tbody>\n",
       "    <tr>\n",
       "      <th>0</th>\n",
       "      <td>Mr. Owen Harris Braund</td>\n",
       "      <td>22.0</td>\n",
       "    </tr>\n",
       "    <tr>\n",
       "      <th>1</th>\n",
       "      <td>Mrs. John Bradley (Florence Briggs Thayer) Cum...</td>\n",
       "      <td>38.0</td>\n",
       "    </tr>\n",
       "    <tr>\n",
       "      <th>2</th>\n",
       "      <td>Miss. Laina Heikkinen</td>\n",
       "      <td>26.0</td>\n",
       "    </tr>\n",
       "    <tr>\n",
       "      <th>3</th>\n",
       "      <td>Mrs. Jacques Heath (Lily May Peel) Futrelle</td>\n",
       "      <td>35.0</td>\n",
       "    </tr>\n",
       "    <tr>\n",
       "      <th>4</th>\n",
       "      <td>Mr. William Henry Allen</td>\n",
       "      <td>35.0</td>\n",
       "    </tr>\n",
       "    <tr>\n",
       "      <th>5</th>\n",
       "      <td>Mr. James Moran</td>\n",
       "      <td>27.0</td>\n",
       "    </tr>\n",
       "    <tr>\n",
       "      <th>6</th>\n",
       "      <td>Mr. Timothy J McCarthy</td>\n",
       "      <td>54.0</td>\n",
       "    </tr>\n",
       "    <tr>\n",
       "      <th>7</th>\n",
       "      <td>Master. Gosta Leonard Palsson</td>\n",
       "      <td>2.0</td>\n",
       "    </tr>\n",
       "    <tr>\n",
       "      <th>8</th>\n",
       "      <td>Mrs. Oscar W (Elisabeth Vilhelmina Berg) Johnson</td>\n",
       "      <td>27.0</td>\n",
       "    </tr>\n",
       "    <tr>\n",
       "      <th>9</th>\n",
       "      <td>Mrs. Nicholas (Adele Achem) Nasser</td>\n",
       "      <td>14.0</td>\n",
       "    </tr>\n",
       "    <tr>\n",
       "      <th>10</th>\n",
       "      <td>Miss. Marguerite Rut Sandstrom</td>\n",
       "      <td>4.0</td>\n",
       "    </tr>\n",
       "    <tr>\n",
       "      <th>11</th>\n",
       "      <td>Miss. Elizabeth Bonnell</td>\n",
       "      <td>58.0</td>\n",
       "    </tr>\n",
       "    <tr>\n",
       "      <th>12</th>\n",
       "      <td>Mr. William Henry Saundercock</td>\n",
       "      <td>20.0</td>\n",
       "    </tr>\n",
       "    <tr>\n",
       "      <th>13</th>\n",
       "      <td>Mr. Anders Johan Andersson</td>\n",
       "      <td>39.0</td>\n",
       "    </tr>\n",
       "    <tr>\n",
       "      <th>14</th>\n",
       "      <td>Miss. Hulda Amanda Adolfina Vestrom</td>\n",
       "      <td>14.0</td>\n",
       "    </tr>\n",
       "    <tr>\n",
       "      <th>15</th>\n",
       "      <td>Mrs. (Mary D Kingcome) Hewlett</td>\n",
       "      <td>55.0</td>\n",
       "    </tr>\n",
       "    <tr>\n",
       "      <th>16</th>\n",
       "      <td>Master. Eugene Rice</td>\n",
       "      <td>2.0</td>\n",
       "    </tr>\n",
       "    <tr>\n",
       "      <th>17</th>\n",
       "      <td>Mr. Charles Eugene Williams</td>\n",
       "      <td>23.0</td>\n",
       "    </tr>\n",
       "    <tr>\n",
       "      <th>18</th>\n",
       "      <td>Mrs. Julius (Emelia Maria Vandemoortele) Vande...</td>\n",
       "      <td>31.0</td>\n",
       "    </tr>\n",
       "    <tr>\n",
       "      <th>19</th>\n",
       "      <td>Mrs. Fatima Masselmani</td>\n",
       "      <td>22.0</td>\n",
       "    </tr>\n",
       "    <tr>\n",
       "      <th>20</th>\n",
       "      <td>Mr. Joseph J Fynney</td>\n",
       "      <td>35.0</td>\n",
       "    </tr>\n",
       "    <tr>\n",
       "      <th>21</th>\n",
       "      <td>Mr. Lawrence Beesley</td>\n",
       "      <td>34.0</td>\n",
       "    </tr>\n",
       "    <tr>\n",
       "      <th>22</th>\n",
       "      <td>Miss. Anna McGowan</td>\n",
       "      <td>15.0</td>\n",
       "    </tr>\n",
       "    <tr>\n",
       "      <th>23</th>\n",
       "      <td>Mr. William Thompson Sloper</td>\n",
       "      <td>28.0</td>\n",
       "    </tr>\n",
       "    <tr>\n",
       "      <th>24</th>\n",
       "      <td>Miss. Torborg Danira Palsson</td>\n",
       "      <td>8.0</td>\n",
       "    </tr>\n",
       "    <tr>\n",
       "      <th>25</th>\n",
       "      <td>Mrs. Carl Oscar (Selma Augusta Emilia Johansso...</td>\n",
       "      <td>38.0</td>\n",
       "    </tr>\n",
       "    <tr>\n",
       "      <th>26</th>\n",
       "      <td>Mr. Farred Chehab Emir</td>\n",
       "      <td>26.0</td>\n",
       "    </tr>\n",
       "    <tr>\n",
       "      <th>27</th>\n",
       "      <td>Mr. Charles Alexander Fortune</td>\n",
       "      <td>19.0</td>\n",
       "    </tr>\n",
       "    <tr>\n",
       "      <th>28</th>\n",
       "      <td>Miss. Ellen O'Dwyer</td>\n",
       "      <td>24.0</td>\n",
       "    </tr>\n",
       "    <tr>\n",
       "      <th>29</th>\n",
       "      <td>Mr. Lalio Todoroff</td>\n",
       "      <td>23.0</td>\n",
       "    </tr>\n",
       "    <tr>\n",
       "      <th>...</th>\n",
       "      <td>...</td>\n",
       "      <td>...</td>\n",
       "    </tr>\n",
       "    <tr>\n",
       "      <th>857</th>\n",
       "      <td>Mr. Frederick Edward Giles</td>\n",
       "      <td>21.0</td>\n",
       "    </tr>\n",
       "    <tr>\n",
       "      <th>858</th>\n",
       "      <td>Mrs. Frederick Joel (Margaret Welles Barron) S...</td>\n",
       "      <td>48.0</td>\n",
       "    </tr>\n",
       "    <tr>\n",
       "      <th>859</th>\n",
       "      <td>Miss. Dorothy Edith Sage</td>\n",
       "      <td>14.0</td>\n",
       "    </tr>\n",
       "    <tr>\n",
       "      <th>860</th>\n",
       "      <td>Mr. John William Gill</td>\n",
       "      <td>24.0</td>\n",
       "    </tr>\n",
       "    <tr>\n",
       "      <th>861</th>\n",
       "      <td>Mrs. (Karolina) Bystrom</td>\n",
       "      <td>42.0</td>\n",
       "    </tr>\n",
       "    <tr>\n",
       "      <th>862</th>\n",
       "      <td>Miss. Asuncion Duran y More</td>\n",
       "      <td>27.0</td>\n",
       "    </tr>\n",
       "    <tr>\n",
       "      <th>863</th>\n",
       "      <td>Mr. Washington Augustus II Roebling</td>\n",
       "      <td>31.0</td>\n",
       "    </tr>\n",
       "    <tr>\n",
       "      <th>864</th>\n",
       "      <td>Mr. Philemon van Melkebeke</td>\n",
       "      <td>23.0</td>\n",
       "    </tr>\n",
       "    <tr>\n",
       "      <th>865</th>\n",
       "      <td>Master. Harold Theodor Johnson</td>\n",
       "      <td>4.0</td>\n",
       "    </tr>\n",
       "    <tr>\n",
       "      <th>866</th>\n",
       "      <td>Mr. Cerin Balkic</td>\n",
       "      <td>26.0</td>\n",
       "    </tr>\n",
       "    <tr>\n",
       "      <th>867</th>\n",
       "      <td>Mrs. Richard Leonard (Sallie Monypeny) Beckwith</td>\n",
       "      <td>47.0</td>\n",
       "    </tr>\n",
       "    <tr>\n",
       "      <th>868</th>\n",
       "      <td>Mr. Frans Olof Carlsson</td>\n",
       "      <td>33.0</td>\n",
       "    </tr>\n",
       "    <tr>\n",
       "      <th>869</th>\n",
       "      <td>Mr. Victor Vander Cruyssen</td>\n",
       "      <td>47.0</td>\n",
       "    </tr>\n",
       "    <tr>\n",
       "      <th>870</th>\n",
       "      <td>Mrs. Samuel (Hannah Wizosky) Abelson</td>\n",
       "      <td>28.0</td>\n",
       "    </tr>\n",
       "    <tr>\n",
       "      <th>871</th>\n",
       "      <td>Miss. Adele Kiamie Najib</td>\n",
       "      <td>15.0</td>\n",
       "    </tr>\n",
       "    <tr>\n",
       "      <th>872</th>\n",
       "      <td>Mr. Alfred Ossian Gustafsson</td>\n",
       "      <td>20.0</td>\n",
       "    </tr>\n",
       "    <tr>\n",
       "      <th>873</th>\n",
       "      <td>Mr. Nedelio Petroff</td>\n",
       "      <td>19.0</td>\n",
       "    </tr>\n",
       "    <tr>\n",
       "      <th>874</th>\n",
       "      <td>Mr. Kristo Laleff</td>\n",
       "      <td>23.0</td>\n",
       "    </tr>\n",
       "    <tr>\n",
       "      <th>875</th>\n",
       "      <td>Mrs. Thomas Jr (Lily Alexenia Wilson) Potter</td>\n",
       "      <td>56.0</td>\n",
       "    </tr>\n",
       "    <tr>\n",
       "      <th>876</th>\n",
       "      <td>Mrs. William (Imanita Parrish Hall) Shelley</td>\n",
       "      <td>25.0</td>\n",
       "    </tr>\n",
       "    <tr>\n",
       "      <th>877</th>\n",
       "      <td>Mr. Johann Markun</td>\n",
       "      <td>33.0</td>\n",
       "    </tr>\n",
       "    <tr>\n",
       "      <th>878</th>\n",
       "      <td>Miss. Gerda Ulrika Dahlberg</td>\n",
       "      <td>22.0</td>\n",
       "    </tr>\n",
       "    <tr>\n",
       "      <th>879</th>\n",
       "      <td>Mr. Frederick James Banfield</td>\n",
       "      <td>28.0</td>\n",
       "    </tr>\n",
       "    <tr>\n",
       "      <th>880</th>\n",
       "      <td>Mr. Henry Jr Sutehall</td>\n",
       "      <td>25.0</td>\n",
       "    </tr>\n",
       "    <tr>\n",
       "      <th>881</th>\n",
       "      <td>Mrs. William (Margaret Norton) Rice</td>\n",
       "      <td>39.0</td>\n",
       "    </tr>\n",
       "    <tr>\n",
       "      <th>882</th>\n",
       "      <td>Rev. Juozas Montvila</td>\n",
       "      <td>27.0</td>\n",
       "    </tr>\n",
       "    <tr>\n",
       "      <th>883</th>\n",
       "      <td>Miss. Margaret Edith Graham</td>\n",
       "      <td>19.0</td>\n",
       "    </tr>\n",
       "    <tr>\n",
       "      <th>884</th>\n",
       "      <td>Miss. Catherine Helen Johnston</td>\n",
       "      <td>7.0</td>\n",
       "    </tr>\n",
       "    <tr>\n",
       "      <th>885</th>\n",
       "      <td>Mr. Karl Howell Behr</td>\n",
       "      <td>26.0</td>\n",
       "    </tr>\n",
       "    <tr>\n",
       "      <th>886</th>\n",
       "      <td>Mr. Patrick Dooley</td>\n",
       "      <td>32.0</td>\n",
       "    </tr>\n",
       "  </tbody>\n",
       "</table>\n",
       "<p>887 rows × 2 columns</p>\n",
       "</div>"
      ],
      "text/plain": [
       "                                                  Name   Age\n",
       "0                               Mr. Owen Harris Braund  22.0\n",
       "1    Mrs. John Bradley (Florence Briggs Thayer) Cum...  38.0\n",
       "2                                Miss. Laina Heikkinen  26.0\n",
       "3          Mrs. Jacques Heath (Lily May Peel) Futrelle  35.0\n",
       "4                              Mr. William Henry Allen  35.0\n",
       "5                                      Mr. James Moran  27.0\n",
       "6                               Mr. Timothy J McCarthy  54.0\n",
       "7                        Master. Gosta Leonard Palsson   2.0\n",
       "8     Mrs. Oscar W (Elisabeth Vilhelmina Berg) Johnson  27.0\n",
       "9                   Mrs. Nicholas (Adele Achem) Nasser  14.0\n",
       "10                      Miss. Marguerite Rut Sandstrom   4.0\n",
       "11                             Miss. Elizabeth Bonnell  58.0\n",
       "12                       Mr. William Henry Saundercock  20.0\n",
       "13                          Mr. Anders Johan Andersson  39.0\n",
       "14                 Miss. Hulda Amanda Adolfina Vestrom  14.0\n",
       "15                      Mrs. (Mary D Kingcome) Hewlett  55.0\n",
       "16                                 Master. Eugene Rice   2.0\n",
       "17                         Mr. Charles Eugene Williams  23.0\n",
       "18   Mrs. Julius (Emelia Maria Vandemoortele) Vande...  31.0\n",
       "19                              Mrs. Fatima Masselmani  22.0\n",
       "20                                 Mr. Joseph J Fynney  35.0\n",
       "21                                Mr. Lawrence Beesley  34.0\n",
       "22                                  Miss. Anna McGowan  15.0\n",
       "23                         Mr. William Thompson Sloper  28.0\n",
       "24                        Miss. Torborg Danira Palsson   8.0\n",
       "25   Mrs. Carl Oscar (Selma Augusta Emilia Johansso...  38.0\n",
       "26                              Mr. Farred Chehab Emir  26.0\n",
       "27                       Mr. Charles Alexander Fortune  19.0\n",
       "28                                 Miss. Ellen O'Dwyer  24.0\n",
       "29                                  Mr. Lalio Todoroff  23.0\n",
       "..                                                 ...   ...\n",
       "857                         Mr. Frederick Edward Giles  21.0\n",
       "858  Mrs. Frederick Joel (Margaret Welles Barron) S...  48.0\n",
       "859                           Miss. Dorothy Edith Sage  14.0\n",
       "860                              Mr. John William Gill  24.0\n",
       "861                            Mrs. (Karolina) Bystrom  42.0\n",
       "862                        Miss. Asuncion Duran y More  27.0\n",
       "863                Mr. Washington Augustus II Roebling  31.0\n",
       "864                         Mr. Philemon van Melkebeke  23.0\n",
       "865                     Master. Harold Theodor Johnson   4.0\n",
       "866                                   Mr. Cerin Balkic  26.0\n",
       "867    Mrs. Richard Leonard (Sallie Monypeny) Beckwith  47.0\n",
       "868                            Mr. Frans Olof Carlsson  33.0\n",
       "869                         Mr. Victor Vander Cruyssen  47.0\n",
       "870               Mrs. Samuel (Hannah Wizosky) Abelson  28.0\n",
       "871                           Miss. Adele Kiamie Najib  15.0\n",
       "872                       Mr. Alfred Ossian Gustafsson  20.0\n",
       "873                                Mr. Nedelio Petroff  19.0\n",
       "874                                  Mr. Kristo Laleff  23.0\n",
       "875       Mrs. Thomas Jr (Lily Alexenia Wilson) Potter  56.0\n",
       "876        Mrs. William (Imanita Parrish Hall) Shelley  25.0\n",
       "877                                  Mr. Johann Markun  33.0\n",
       "878                        Miss. Gerda Ulrika Dahlberg  22.0\n",
       "879                       Mr. Frederick James Banfield  28.0\n",
       "880                              Mr. Henry Jr Sutehall  25.0\n",
       "881                Mrs. William (Margaret Norton) Rice  39.0\n",
       "882                               Rev. Juozas Montvila  27.0\n",
       "883                        Miss. Margaret Edith Graham  19.0\n",
       "884                     Miss. Catherine Helen Johnston   7.0\n",
       "885                               Mr. Karl Howell Behr  26.0\n",
       "886                                 Mr. Patrick Dooley  32.0\n",
       "\n",
       "[887 rows x 2 columns]"
      ]
     },
     "execution_count": 5,
     "metadata": {},
     "output_type": "execute_result"
    }
   ],
   "source": [
    "titanic_data[['Name', 'Age']]  #If we want to see the values in the Name and Age columns"
   ]
  },
  {
   "cell_type": "code",
   "execution_count": 6,
   "metadata": {
    "collapsed": false
   },
   "outputs": [
    {
     "data": {
      "text/plain": [
       "0    22.0\n",
       "1    38.0\n",
       "2    26.0\n",
       "3    35.0\n",
       "4    35.0\n",
       "Name: Age, dtype: float64"
      ]
     },
     "execution_count": 6,
     "metadata": {},
     "output_type": "execute_result"
    }
   ],
   "source": [
    "# If we just want to see the first five columns of the age column\n",
    "titanic_data['Age'].head()"
   ]
  },
  {
   "cell_type": "markdown",
   "metadata": {},
   "source": [
    "### Understanding the Data (features vs. target variable)"
   ]
  },
  {
   "cell_type": "markdown",
   "metadata": {},
   "source": [
    "Based on what the results of the head() and info() calls, we know that the data contains 8 variables, which consist of 7 features and 1 target that we are trying to predict.\n",
    "\n",
    "Features:\n",
    "\n",
    "- **Pclass**: A number from 1-3 corresponding to the class (eg. economy class) that a passenger belonged to.\n",
    "- **Name**: The name of the passenger as a string.\n",
    "- **Sex**: The gender male/female of the passenger.\n",
    "- **Age**: The age of the passenger.\n",
    "- **Siblings/Spouses Aboard**:  The number of siblings/spouses of a passenger aboard the Titanic.\n",
    "- **Parents/Children Aboard**: The number of parents/children of a passenger aboard the Titanic.\n",
    "- **Fare**: The fare that the passenger had to pay.\n",
    "\n",
    "Target variable:\n",
    "- **Survived**: Contains a 1 if the passenger survived and a 0 if the passenger did not.\n",
    "\n",
    "If we want summary statistics for the data we can call the describe() function."
   ]
  },
  {
   "cell_type": "code",
   "execution_count": 7,
   "metadata": {
    "collapsed": false
   },
   "outputs": [
    {
     "data": {
      "text/html": [
       "<div>\n",
       "<table border=\"1\" class=\"dataframe\">\n",
       "  <thead>\n",
       "    <tr style=\"text-align: right;\">\n",
       "      <th></th>\n",
       "      <th>Survived</th>\n",
       "      <th>Pclass</th>\n",
       "      <th>Age</th>\n",
       "      <th>Siblings/Spouses Aboard</th>\n",
       "      <th>Parents/Children Aboard</th>\n",
       "      <th>Fare</th>\n",
       "    </tr>\n",
       "  </thead>\n",
       "  <tbody>\n",
       "    <tr>\n",
       "      <th>count</th>\n",
       "      <td>887.000000</td>\n",
       "      <td>887.000000</td>\n",
       "      <td>887.000000</td>\n",
       "      <td>887.000000</td>\n",
       "      <td>887.000000</td>\n",
       "      <td>887.00000</td>\n",
       "    </tr>\n",
       "    <tr>\n",
       "      <th>mean</th>\n",
       "      <td>0.385569</td>\n",
       "      <td>2.305524</td>\n",
       "      <td>29.471443</td>\n",
       "      <td>0.525366</td>\n",
       "      <td>0.383315</td>\n",
       "      <td>32.30542</td>\n",
       "    </tr>\n",
       "    <tr>\n",
       "      <th>std</th>\n",
       "      <td>0.487004</td>\n",
       "      <td>0.836662</td>\n",
       "      <td>14.121908</td>\n",
       "      <td>1.104669</td>\n",
       "      <td>0.807466</td>\n",
       "      <td>49.78204</td>\n",
       "    </tr>\n",
       "    <tr>\n",
       "      <th>min</th>\n",
       "      <td>0.000000</td>\n",
       "      <td>1.000000</td>\n",
       "      <td>0.420000</td>\n",
       "      <td>0.000000</td>\n",
       "      <td>0.000000</td>\n",
       "      <td>0.00000</td>\n",
       "    </tr>\n",
       "    <tr>\n",
       "      <th>25%</th>\n",
       "      <td>0.000000</td>\n",
       "      <td>2.000000</td>\n",
       "      <td>20.250000</td>\n",
       "      <td>0.000000</td>\n",
       "      <td>0.000000</td>\n",
       "      <td>7.92500</td>\n",
       "    </tr>\n",
       "    <tr>\n",
       "      <th>50%</th>\n",
       "      <td>0.000000</td>\n",
       "      <td>3.000000</td>\n",
       "      <td>28.000000</td>\n",
       "      <td>0.000000</td>\n",
       "      <td>0.000000</td>\n",
       "      <td>14.45420</td>\n",
       "    </tr>\n",
       "    <tr>\n",
       "      <th>75%</th>\n",
       "      <td>1.000000</td>\n",
       "      <td>3.000000</td>\n",
       "      <td>38.000000</td>\n",
       "      <td>1.000000</td>\n",
       "      <td>0.000000</td>\n",
       "      <td>31.13750</td>\n",
       "    </tr>\n",
       "    <tr>\n",
       "      <th>max</th>\n",
       "      <td>1.000000</td>\n",
       "      <td>3.000000</td>\n",
       "      <td>80.000000</td>\n",
       "      <td>8.000000</td>\n",
       "      <td>6.000000</td>\n",
       "      <td>512.32920</td>\n",
       "    </tr>\n",
       "  </tbody>\n",
       "</table>\n",
       "</div>"
      ],
      "text/plain": [
       "         Survived      Pclass         Age  Siblings/Spouses Aboard  \\\n",
       "count  887.000000  887.000000  887.000000               887.000000   \n",
       "mean     0.385569    2.305524   29.471443                 0.525366   \n",
       "std      0.487004    0.836662   14.121908                 1.104669   \n",
       "min      0.000000    1.000000    0.420000                 0.000000   \n",
       "25%      0.000000    2.000000   20.250000                 0.000000   \n",
       "50%      0.000000    3.000000   28.000000                 0.000000   \n",
       "75%      1.000000    3.000000   38.000000                 1.000000   \n",
       "max      1.000000    3.000000   80.000000                 8.000000   \n",
       "\n",
       "       Parents/Children Aboard       Fare  \n",
       "count               887.000000  887.00000  \n",
       "mean                  0.383315   32.30542  \n",
       "std                   0.807466   49.78204  \n",
       "min                   0.000000    0.00000  \n",
       "25%                   0.000000    7.92500  \n",
       "50%                   0.000000   14.45420  \n",
       "75%                   0.000000   31.13750  \n",
       "max                   6.000000  512.32920  "
      ]
     },
     "execution_count": 7,
     "metadata": {},
     "output_type": "execute_result"
    }
   ],
   "source": [
    "titanic_data.describe()"
   ]
  },
  {
   "cell_type": "markdown",
   "metadata": {},
   "source": [
    "Using the pairplot function from the seaborn library we can see how each variable is related."
   ]
  },
  {
   "cell_type": "code",
   "execution_count": 23,
   "metadata": {
    "collapsed": false
   },
   "outputs": [
    {
     "data": {
      "text/plain": [
       "<seaborn.axisgrid.PairGrid at 0x1123bd1d0>"
      ]
     },
     "execution_count": 23,
     "metadata": {},
     "output_type": "execute_result"
    },
    {
     "data": {
      "image/png": "[encoded data removed]",
      "text/plain": [
       "<matplotlib.figure.Figure at 0x1123bd240>"
      ]
     },
     "metadata": {},
     "output_type": "display_data"
    }
   ],
   "source": [
    "sns.pairplot(titanic_data.drop(['Survived'], axis=1))"
   ]
  },
  {
   "cell_type": "markdown",
   "metadata": {},
   "source": [
    "## Cleaning Up the Data\n",
    "One of the most common problems with unprocessed data is missing or null values. Before we can run an algorithm on the data, we need to deal with these missing or null values. Let's check if our data has any null values."
   ]
  },
  {
   "cell_type": "code",
   "execution_count": 8,
   "metadata": {
    "collapsed": false
   },
   "outputs": [
    {
     "data": {
      "text/plain": [
       "Survived                   0\n",
       "Pclass                     0\n",
       "Name                       0\n",
       "Sex                        0\n",
       "Age                        0\n",
       "Siblings/Spouses Aboard    0\n",
       "Parents/Children Aboard    0\n",
       "Fare                       0\n",
       "dtype: int64"
      ]
     },
     "execution_count": 8,
     "metadata": {},
     "output_type": "execute_result"
    }
   ],
   "source": [
    "titanic_data.isnull().sum()"
   ]
  },
  {
   "cell_type": "markdown",
   "metadata": {},
   "source": [
    "Perfect! Since our data has no null values, we can continue to the next step of preprocessing, where we will encode nominal values."
   ]
  },
  {
   "cell_type": "markdown",
   "metadata": {},
   "source": [
    "### Label Encoding\n",
    "In order for a machine learning algorithm to work on this data, we need transform it into a dataset with all numbers. So we need to convert the Gender column to numbers corresponding to the values \"male\" and \"female\". We can easily do this with scikit-learn's LabelEncoder."
   ]
  },
  {
   "cell_type": "code",
   "execution_count": 9,
   "metadata": {
    "collapsed": true
   },
   "outputs": [],
   "source": [
    "from sklearn.preprocessing import LabelEncoder\n",
    "\n",
    "encoder = LabelEncoder()\n",
    "titanic_data['Sex'] = encoder.fit_transform(titanic_data['Sex'])"
   ]
  },
  {
   "cell_type": "code",
   "execution_count": 10,
   "metadata": {
    "collapsed": false
   },
   "outputs": [
    {
     "data": {
      "text/html": [
       "<div>\n",
       "<table border=\"1\" class=\"dataframe\">\n",
       "  <thead>\n",
       "    <tr style=\"text-align: right;\">\n",
       "      <th></th>\n",
       "      <th>Survived</th>\n",
       "      <th>Pclass</th>\n",
       "      <th>Name</th>\n",
       "      <th>Sex</th>\n",
       "      <th>Age</th>\n",
       "      <th>Siblings/Spouses Aboard</th>\n",
       "      <th>Parents/Children Aboard</th>\n",
       "      <th>Fare</th>\n",
       "    </tr>\n",
       "  </thead>\n",
       "  <tbody>\n",
       "    <tr>\n",
       "      <th>0</th>\n",
       "      <td>0</td>\n",
       "      <td>3</td>\n",
       "      <td>Mr. Owen Harris Braund</td>\n",
       "      <td>1</td>\n",
       "      <td>22.0</td>\n",
       "      <td>1</td>\n",
       "      <td>0</td>\n",
       "      <td>7.2500</td>\n",
       "    </tr>\n",
       "    <tr>\n",
       "      <th>1</th>\n",
       "      <td>1</td>\n",
       "      <td>1</td>\n",
       "      <td>Mrs. John Bradley (Florence Briggs Thayer) Cum...</td>\n",
       "      <td>0</td>\n",
       "      <td>38.0</td>\n",
       "      <td>1</td>\n",
       "      <td>0</td>\n",
       "      <td>71.2833</td>\n",
       "    </tr>\n",
       "    <tr>\n",
       "      <th>2</th>\n",
       "      <td>1</td>\n",
       "      <td>3</td>\n",
       "      <td>Miss. Laina Heikkinen</td>\n",
       "      <td>0</td>\n",
       "      <td>26.0</td>\n",
       "      <td>0</td>\n",
       "      <td>0</td>\n",
       "      <td>7.9250</td>\n",
       "    </tr>\n",
       "    <tr>\n",
       "      <th>3</th>\n",
       "      <td>1</td>\n",
       "      <td>1</td>\n",
       "      <td>Mrs. Jacques Heath (Lily May Peel) Futrelle</td>\n",
       "      <td>0</td>\n",
       "      <td>35.0</td>\n",
       "      <td>1</td>\n",
       "      <td>0</td>\n",
       "      <td>53.1000</td>\n",
       "    </tr>\n",
       "    <tr>\n",
       "      <th>4</th>\n",
       "      <td>0</td>\n",
       "      <td>3</td>\n",
       "      <td>Mr. William Henry Allen</td>\n",
       "      <td>1</td>\n",
       "      <td>35.0</td>\n",
       "      <td>0</td>\n",
       "      <td>0</td>\n",
       "      <td>8.0500</td>\n",
       "    </tr>\n",
       "  </tbody>\n",
       "</table>\n",
       "</div>"
      ],
      "text/plain": [
       "   Survived  Pclass                                               Name  Sex  \\\n",
       "0         0       3                             Mr. Owen Harris Braund    1   \n",
       "1         1       1  Mrs. John Bradley (Florence Briggs Thayer) Cum...    0   \n",
       "2         1       3                              Miss. Laina Heikkinen    0   \n",
       "3         1       1        Mrs. Jacques Heath (Lily May Peel) Futrelle    0   \n",
       "4         0       3                            Mr. William Henry Allen    1   \n",
       "\n",
       "    Age  Siblings/Spouses Aboard  Parents/Children Aboard     Fare  \n",
       "0  22.0                        1                        0   7.2500  \n",
       "1  38.0                        1                        0  71.2833  \n",
       "2  26.0                        0                        0   7.9250  \n",
       "3  35.0                        1                        0  53.1000  \n",
       "4  35.0                        0                        0   8.0500  "
      ]
     },
     "execution_count": 10,
     "metadata": {},
     "output_type": "execute_result"
    }
   ],
   "source": [
    "titanic_data.head()"
   ]
  },
  {
   "cell_type": "markdown",
   "metadata": {},
   "source": [
    "After looking at the dataframe again, we can see that the LabelEncoder has replaced all values of \"male\" with 1 and all values of \"female\" in the \"Sex\" column with 0. At this point, we have done the basic preprocessing necessary and all that's left is to drop the Name column since we will not be dealing with textual data in this tutorial. We will do that in the next section where we split the data into training and testing sets."
   ]
  },
  {
   "cell_type": "markdown",
   "metadata": {
    "collapsed": true
   },
   "source": [
    "## Train, Test, Split! "
   ]
  },
  {
   "cell_type": "markdown",
   "metadata": {},
   "source": [
    "The next step in processing our data is to split our data into a training and testing set so that we can train our machine learning algorithms on the training set and the evaluate the performance of each algorithm on the testing set. We can do this using scikit-learn's **train_test_split** tool."
   ]
  },
  {
   "cell_type": "code",
   "execution_count": 11,
   "metadata": {
    "collapsed": false
   },
   "outputs": [],
   "source": [
    "from sklearn.model_selection import train_test_split\n",
    "\n",
    "X = titanic_data.drop(['Name', 'Survived'], axis=1)#Sets X equal to the dataframe without the Name and Survived columns\n",
    "y = titanic_data['Survived'] # Sets y equal to the values in the Survived column \n",
    "X_train, X_test, y_train, y_test = train_test_split(X, y, test_size=0.30, random_state=42) #splits the data "
   ]
  },
  {
   "cell_type": "markdown",
   "metadata": {},
   "source": [
    "### What's going on in the code above?"
   ]
  },
  {
   "cell_type": "markdown",
   "metadata": {},
   "source": [
    "There seems to be a lot going on in the code above, but its actually quite simple. We did the following:\n",
    "\n",
    "- Created a dataframe **X** to represent the **features of the data** that we will train the model on (we have dropped the Name column since we cannot use it).\n",
    "- Created a dataframe **y** to represent the **target variable** (whether or not the person survived).\n",
    "- Created four dataframes using train_test_split:\n",
    "    - **X_train**: represents the features in training data.\n",
    "    - **X_test**: represents the features in testing data.\n",
    "    - **y_train**: represents the target values in training data.\n",
    "    - **y_test**: represents the target values in testing data.\n",
    "    \n",
    "### How train_test_split works\n",
    "\n",
    "The train_test_split function takes our features (X) and our target values (y) and splits them into training and testing sets.\n",
    "- **test_size**: Represents the proportion of the data that will be used to test the data.\n",
    "- **random_state**: Just a random seed for randomly performing the split. "
   ]
  },
  {
   "cell_type": "markdown",
   "metadata": {},
   "source": [
    "Let's take a look at the four dataframes we created just to convince ourselves!"
   ]
  },
  {
   "cell_type": "markdown",
   "metadata": {},
   "source": [
    "#### X_train - training data features"
   ]
  },
  {
   "cell_type": "code",
   "execution_count": 12,
   "metadata": {
    "collapsed": false
   },
   "outputs": [
    {
     "data": {
      "text/html": [
       "<div>\n",
       "<table border=\"1\" class=\"dataframe\">\n",
       "  <thead>\n",
       "    <tr style=\"text-align: right;\">\n",
       "      <th></th>\n",
       "      <th>Pclass</th>\n",
       "      <th>Sex</th>\n",
       "      <th>Age</th>\n",
       "      <th>Siblings/Spouses Aboard</th>\n",
       "      <th>Parents/Children Aboard</th>\n",
       "      <th>Fare</th>\n",
       "    </tr>\n",
       "  </thead>\n",
       "  <tbody>\n",
       "    <tr>\n",
       "      <th>446</th>\n",
       "      <td>1</td>\n",
       "      <td>1</td>\n",
       "      <td>52.0</td>\n",
       "      <td>0</td>\n",
       "      <td>0</td>\n",
       "      <td>30.5000</td>\n",
       "    </tr>\n",
       "    <tr>\n",
       "      <th>478</th>\n",
       "      <td>2</td>\n",
       "      <td>1</td>\n",
       "      <td>37.0</td>\n",
       "      <td>0</td>\n",
       "      <td>0</td>\n",
       "      <td>0.0000</td>\n",
       "    </tr>\n",
       "    <tr>\n",
       "      <th>328</th>\n",
       "      <td>3</td>\n",
       "      <td>0</td>\n",
       "      <td>28.0</td>\n",
       "      <td>2</td>\n",
       "      <td>0</td>\n",
       "      <td>23.2500</td>\n",
       "    </tr>\n",
       "    <tr>\n",
       "      <th>798</th>\n",
       "      <td>1</td>\n",
       "      <td>1</td>\n",
       "      <td>11.0</td>\n",
       "      <td>1</td>\n",
       "      <td>2</td>\n",
       "      <td>120.0000</td>\n",
       "    </tr>\n",
       "    <tr>\n",
       "      <th>90</th>\n",
       "      <td>3</td>\n",
       "      <td>1</td>\n",
       "      <td>20.0</td>\n",
       "      <td>0</td>\n",
       "      <td>0</td>\n",
       "      <td>7.8542</td>\n",
       "    </tr>\n",
       "    <tr>\n",
       "      <th>838</th>\n",
       "      <td>1</td>\n",
       "      <td>0</td>\n",
       "      <td>30.0</td>\n",
       "      <td>0</td>\n",
       "      <td>0</td>\n",
       "      <td>31.0000</td>\n",
       "    </tr>\n",
       "    <tr>\n",
       "      <th>181</th>\n",
       "      <td>3</td>\n",
       "      <td>1</td>\n",
       "      <td>9.0</td>\n",
       "      <td>4</td>\n",
       "      <td>2</td>\n",
       "      <td>31.3875</td>\n",
       "    </tr>\n",
       "    <tr>\n",
       "      <th>465</th>\n",
       "      <td>3</td>\n",
       "      <td>1</td>\n",
       "      <td>22.0</td>\n",
       "      <td>0</td>\n",
       "      <td>0</td>\n",
       "      <td>7.7250</td>\n",
       "    </tr>\n",
       "    <tr>\n",
       "      <th>792</th>\n",
       "      <td>1</td>\n",
       "      <td>0</td>\n",
       "      <td>49.0</td>\n",
       "      <td>0</td>\n",
       "      <td>0</td>\n",
       "      <td>25.9292</td>\n",
       "    </tr>\n",
       "    <tr>\n",
       "      <th>69</th>\n",
       "      <td>2</td>\n",
       "      <td>1</td>\n",
       "      <td>32.0</td>\n",
       "      <td>0</td>\n",
       "      <td>0</td>\n",
       "      <td>10.5000</td>\n",
       "    </tr>\n",
       "  </tbody>\n",
       "</table>\n",
       "</div>"
      ],
      "text/plain": [
       "     Pclass  Sex   Age  Siblings/Spouses Aboard  Parents/Children Aboard  \\\n",
       "446       1    1  52.0                        0                        0   \n",
       "478       2    1  37.0                        0                        0   \n",
       "328       3    0  28.0                        2                        0   \n",
       "798       1    1  11.0                        1                        2   \n",
       "90        3    1  20.0                        0                        0   \n",
       "838       1    0  30.0                        0                        0   \n",
       "181       3    1   9.0                        4                        2   \n",
       "465       3    1  22.0                        0                        0   \n",
       "792       1    0  49.0                        0                        0   \n",
       "69        2    1  32.0                        0                        0   \n",
       "\n",
       "         Fare  \n",
       "446   30.5000  \n",
       "478    0.0000  \n",
       "328   23.2500  \n",
       "798  120.0000  \n",
       "90     7.8542  \n",
       "838   31.0000  \n",
       "181   31.3875  \n",
       "465    7.7250  \n",
       "792   25.9292  \n",
       "69    10.5000  "
      ]
     },
     "execution_count": 12,
     "metadata": {},
     "output_type": "execute_result"
    }
   ],
   "source": [
    "X_train.head(10) # Passing a value of 10 into the head function displays the first 10 rows"
   ]
  },
  {
   "cell_type": "markdown",
   "metadata": {},
   "source": [
    "#### X_test - testing data features"
   ]
  },
  {
   "cell_type": "code",
   "execution_count": 13,
   "metadata": {
    "collapsed": false
   },
   "outputs": [
    {
     "data": {
      "text/html": [
       "<div>\n",
       "<table border=\"1\" class=\"dataframe\">\n",
       "  <thead>\n",
       "    <tr style=\"text-align: right;\">\n",
       "      <th></th>\n",
       "      <th>Pclass</th>\n",
       "      <th>Sex</th>\n",
       "      <th>Age</th>\n",
       "      <th>Siblings/Spouses Aboard</th>\n",
       "      <th>Parents/Children Aboard</th>\n",
       "      <th>Fare</th>\n",
       "    </tr>\n",
       "  </thead>\n",
       "  <tbody>\n",
       "    <tr>\n",
       "      <th>296</th>\n",
       "      <td>1</td>\n",
       "      <td>1</td>\n",
       "      <td>47.0</td>\n",
       "      <td>0</td>\n",
       "      <td>0</td>\n",
       "      <td>30.5000</td>\n",
       "    </tr>\n",
       "    <tr>\n",
       "      <th>682</th>\n",
       "      <td>2</td>\n",
       "      <td>1</td>\n",
       "      <td>25.0</td>\n",
       "      <td>1</td>\n",
       "      <td>2</td>\n",
       "      <td>41.5792</td>\n",
       "    </tr>\n",
       "    <tr>\n",
       "      <th>535</th>\n",
       "      <td>3</td>\n",
       "      <td>1</td>\n",
       "      <td>69.0</td>\n",
       "      <td>0</td>\n",
       "      <td>0</td>\n",
       "      <td>14.5000</td>\n",
       "    </tr>\n",
       "    <tr>\n",
       "      <th>644</th>\n",
       "      <td>1</td>\n",
       "      <td>1</td>\n",
       "      <td>56.0</td>\n",
       "      <td>0</td>\n",
       "      <td>0</td>\n",
       "      <td>35.5000</td>\n",
       "    </tr>\n",
       "    <tr>\n",
       "      <th>623</th>\n",
       "      <td>2</td>\n",
       "      <td>1</td>\n",
       "      <td>57.0</td>\n",
       "      <td>0</td>\n",
       "      <td>0</td>\n",
       "      <td>12.3500</td>\n",
       "    </tr>\n",
       "    <tr>\n",
       "      <th>39</th>\n",
       "      <td>3</td>\n",
       "      <td>0</td>\n",
       "      <td>14.0</td>\n",
       "      <td>1</td>\n",
       "      <td>0</td>\n",
       "      <td>11.2417</td>\n",
       "    </tr>\n",
       "    <tr>\n",
       "      <th>529</th>\n",
       "      <td>3</td>\n",
       "      <td>1</td>\n",
       "      <td>17.0</td>\n",
       "      <td>1</td>\n",
       "      <td>1</td>\n",
       "      <td>7.2292</td>\n",
       "    </tr>\n",
       "    <tr>\n",
       "      <th>585</th>\n",
       "      <td>3</td>\n",
       "      <td>1</td>\n",
       "      <td>22.0</td>\n",
       "      <td>0</td>\n",
       "      <td>0</td>\n",
       "      <td>8.0500</td>\n",
       "    </tr>\n",
       "    <tr>\n",
       "      <th>723</th>\n",
       "      <td>3</td>\n",
       "      <td>0</td>\n",
       "      <td>28.0</td>\n",
       "      <td>0</td>\n",
       "      <td>0</td>\n",
       "      <td>7.7375</td>\n",
       "    </tr>\n",
       "    <tr>\n",
       "      <th>141</th>\n",
       "      <td>3</td>\n",
       "      <td>0</td>\n",
       "      <td>24.0</td>\n",
       "      <td>1</td>\n",
       "      <td>0</td>\n",
       "      <td>15.8500</td>\n",
       "    </tr>\n",
       "  </tbody>\n",
       "</table>\n",
       "</div>"
      ],
      "text/plain": [
       "     Pclass  Sex   Age  Siblings/Spouses Aboard  Parents/Children Aboard  \\\n",
       "296       1    1  47.0                        0                        0   \n",
       "682       2    1  25.0                        1                        2   \n",
       "535       3    1  69.0                        0                        0   \n",
       "644       1    1  56.0                        0                        0   \n",
       "623       2    1  57.0                        0                        0   \n",
       "39        3    0  14.0                        1                        0   \n",
       "529       3    1  17.0                        1                        1   \n",
       "585       3    1  22.0                        0                        0   \n",
       "723       3    0  28.0                        0                        0   \n",
       "141       3    0  24.0                        1                        0   \n",
       "\n",
       "        Fare  \n",
       "296  30.5000  \n",
       "682  41.5792  \n",
       "535  14.5000  \n",
       "644  35.5000  \n",
       "623  12.3500  \n",
       "39   11.2417  \n",
       "529   7.2292  \n",
       "585   8.0500  \n",
       "723   7.7375  \n",
       "141  15.8500  "
      ]
     },
     "execution_count": 13,
     "metadata": {},
     "output_type": "execute_result"
    }
   ],
   "source": [
    "X_test.head(10)"
   ]
  },
  {
   "cell_type": "markdown",
   "metadata": {},
   "source": [
    "#### y_train - training data target values"
   ]
  },
  {
   "cell_type": "code",
   "execution_count": 14,
   "metadata": {
    "collapsed": false
   },
   "outputs": [
    {
     "data": {
      "text/plain": [
       "446    1\n",
       "478    0\n",
       "328    1\n",
       "798    1\n",
       "90     0\n",
       "838    1\n",
       "181    0\n",
       "465    0\n",
       "792    1\n",
       "69     0\n",
       "Name: Survived, dtype: int64"
      ]
     },
     "execution_count": 14,
     "metadata": {},
     "output_type": "execute_result"
    }
   ],
   "source": [
    "y_train.head(10)"
   ]
  },
  {
   "cell_type": "markdown",
   "metadata": {},
   "source": [
    "#### y_test - testing data target values"
   ]
  },
  {
   "cell_type": "code",
   "execution_count": 15,
   "metadata": {
    "collapsed": false
   },
   "outputs": [
    {
     "data": {
      "text/plain": [
       "296    1\n",
       "682    0\n",
       "535    0\n",
       "644    1\n",
       "623    0\n",
       "39     1\n",
       "529    0\n",
       "585    0\n",
       "723    1\n",
       "141    1\n",
       "Name: Survived, dtype: int64"
      ]
     },
     "execution_count": 15,
     "metadata": {},
     "output_type": "execute_result"
    }
   ],
   "source": [
    "y_test.head(10)"
   ]
  },
  {
   "cell_type": "markdown",
   "metadata": {},
   "source": [
    "## Training ML Algorithms on the Titanic Data!"
   ]
  },
  {
   "cell_type": "markdown",
   "metadata": {},
   "source": [
    "Now that we've processed the data, we can finally train machine learning algorithms on this data and even evaluate the performance of each algorithm!"
   ]
  },
  {
   "cell_type": "markdown",
   "metadata": {},
   "source": [
    "### K-Nearest Neighbors (KNN) - A Lazy Learning Algorithm"
   ]
  },
  {
   "cell_type": "markdown",
   "metadata": {},
   "source": [
    "K-Nearest Neighbors is a very simple machine learning algorithm and it is good algorithm for demonstrating ML to beginners. It was originally designed to solve **classification** problems but the algorithm can be tweaked to solve **regression** problems as well. Here we will focus on using KNN to classify a person as having survived or not survived the Titanic.\n",
    "\n",
    "### How it Works\n",
    "K-Nearest Neighbors works by taking a data point and looking at its \"k\" nearest neighbors (k is an arbitrary constant that we can tune later) and then classifying the data point based on the majority of the classes of its k nearest neighbors. The simplified steps of the algorithm are described below:\n",
    "\n",
    "1. **Training stage**: Just load all of the data! (seriously, that's it!)\n",
    "2. **Classifying a point**: Find the k nearest neighbors to the point using a **distance metric** and look at the classes of these neighbors. Predict the class of the point based on the class that appears most often in the neighbors.\n",
    "\n",
    "#### Distance Metrics:\n",
    "- Euclidean distance (most common): This is what we know as the straight-line distance between two points. This distance is essentially the square root of the sums of the squares of the differences between each coordinate dimension of the two points. \n",
    "\\begin{equation*}\n",
    "d(p, q) = \\sqrt{\\sum_{i=1}^n (q_i - p_i)^2}\n",
    "\\end{equation*}\n",
    "\n",
    "- Manhattan distance: The distance between two points in a grid based on only vertical or horizontal line paths (no slanted lines can be drawn between the points as in Euclidean distance!).\n",
    "\\begin{equation*}\n",
    "d(p, q) = \\sum_{i=1}^n |q_i - p_i|\n",
    "\\end{equation*}\n",
    "\n",
    "- Minkowski distance: A generalization of Euclidean and Manhattan distance with a paramter value of p = 2 representing Euclidean distance. Given the points:\n",
    "\n",
    "\\begin{equation*}\n",
    "X = (x_1, x_2, ...., x_n)\n",
    "\\end{equation*}\n",
    "\\begin{equation*}\n",
    "Y = (y_1, y_2, ...., y_n)\n",
    "\\end{equation*} \n",
    "\n",
    "The Minkowski distance of order p is:\n",
    "\n",
    "\\begin{equation*}\n",
    "d(X, Y) = (\\sum_{i=1}^n |x_i - y_i|^{p})^{1/p}\n",
    "\\end{equation*}\n",
    "\n",
    "\n",
    "### Training a KNN Classifier in Python"
   ]
  },
  {
   "cell_type": "code",
   "execution_count": 16,
   "metadata": {
    "collapsed": true
   },
   "outputs": [],
   "source": [
    "from sklearn.neighbors import KNeighborsClassifier"
   ]
  },
  {
   "cell_type": "code",
   "execution_count": 17,
   "metadata": {
    "collapsed": false
   },
   "outputs": [
    {
     "data": {
      "text/plain": [
       "KNeighborsClassifier(algorithm='auto', leaf_size=30, metric='minkowski',\n",
       "           metric_params=None, n_jobs=1, n_neighbors=5, p=2,\n",
       "           weights='uniform')"
      ]
     },
     "execution_count": 17,
     "metadata": {},
     "output_type": "execute_result"
    }
   ],
   "source": [
    "KNN_model = KNeighborsClassifier(n_neighbors=5)\n",
    "KNN_model.fit(X_train, y_train)"
   ]
  },
  {
   "cell_type": "markdown",
   "metadata": {},
   "source": [
    "As you can see above, calling fit from our KNN model produces an output where we get the details of the instance of the KNeighborsClassifier class. There are several parameters here that may look unfamiliar and the only one that we have manually set is n_neighbors. Here is what the other parameters mean:\n",
    "\n",
    "- **metric**: (default = minkowski) the distance metric that is to be used. Note that we could provide our own distance metric in the form of a function.\n",
    "- **p**: (default = 2) represents the parameter for Minkowski distance in the equation above. A value of p = 2 just means we are dealing with Euclidean distance (what we normally think of as straight-line distance). \n",
    "- **n_jobs** (default = 1): The number of parallel threads to use in training the model. Since we have a very small dataset, we can just stick with the default value.\n",
    "- **metric_params** (default=None): If we specified a custom function for our distance metric, we would place the parameters of that function here.\n",
    "- **weights** (default=uniform): This just specifies how much weight to give to each neighbor when generating predictions. If we specified 'distance' instead as the value, then points that are closer to the specified point would have more weight in determining the point's class.\n",
    "- **algorithm** (default=auto): specifies the algorithm used for searching through points to compute nearest neighbors. I would recommend sticking with 'auto' and letting the software decide which algorithm is best. \n",
    "\n",
    "For more information, you can check out the SciKit-Learn documentation page for this classifier here: \n",
    "http://scikit-learn.org/stable/modules/generated/sklearn.neighbors.KNeighborsClassifier.html\n"
   ]
  },
  {
   "cell_type": "markdown",
   "metadata": {},
   "source": [
    "### Evaluating our Model\n",
    "Remember how we split the data into training and testing sets? Here we are going to evaluate our model by having it generate predictions from the test data without seeing the target values in the test data. Now that we have trained our model, we will call the predict function on the test features to generate predictions and compare these predictions to the target values in the test set."
   ]
  },
  {
   "cell_type": "code",
   "execution_count": 21,
   "metadata": {
    "collapsed": false
   },
   "outputs": [
    {
     "name": "stdout",
     "output_type": "stream",
     "text": [
      "             precision    recall  f1-score   support\n",
      "\n",
      "          0       0.77      0.76      0.76       168\n",
      "          1       0.59      0.61      0.60        99\n",
      "\n",
      "avg / total       0.70      0.70      0.70       267\n",
      "\n",
      "Our model achieved an accuracy of 70.0374531835206 % on the test data\n"
     ]
    }
   ],
   "source": [
    "from sklearn.metrics import classification_report, accuracy_score\n",
    "pred = KNN_model.predict(X_test)\n",
    "print(classification_report(pred, y_test))\n",
    "print(\"Our model achieved an accuracy of {} % on the test data\".format(100*accuracy_score(pred, y_test)))"
   ]
  },
  {
   "cell_type": "markdown",
   "metadata": {},
   "source": [
    "Looking at the accuracy, 70% is not bad considering that we used a very simple algorithm. Here is what the other performance measures mean:\n",
    "\n",
    "- **precision**: the ratio of correctly predicted positive observations (true positives) to the total predicted positive observations. For example in the row labeled 1 above, this is the number of times our model correctly predicted someone survived divided by the total number of times our model predicted someone survived.\n",
    "- **recall**: the ratio of correctly predicted positive observations to all observations actually in that class. For example, in row 1, this is number of times our model predicted someone survived divided by the number of people that actually survived. \n",
    "- **f1-score**: a weighted average of precision and recall."
   ]
  },
  {
   "cell_type": "markdown",
   "metadata": {},
   "source": [
    "## Decision Trees - Naive, but readable models"
   ]
  },
  {
   "cell_type": "markdown",
   "metadata": {},
   "source": [
    "Decision trees are models that are a bit more complex than the KNN algorithm, but are nevertheless readable and can perform well on simple datasets. The decision tree algorithm essentially takes all of the data and literally creates a tree of conditional statements that can then be used to classify a data point. "
   ]
  },
  {
   "cell_type": "code",
   "execution_count": null,
   "metadata": {
    "collapsed": true
   },
   "outputs": [],
   "source": []
  }
 ],
 "metadata": {
  "anaconda-cloud": {},
  "kernelspec": {
   "display_name": "Python [conda root]",
   "language": "python",
   "name": "conda-root-py"
  },
  "language_info": {
   "codemirror_mode": {
    "name": "ipython",
    "version": 3
   },
   "file_extension": ".py",
   "mimetype": "text/x-python",
   "name": "python",
   "nbconvert_exporter": "python",
   "pygments_lexer": "ipython3",
   "version": "3.5.2"
  },
  "nbpresent": {
   "slides": {
    "d43a289e-d4a7-4e53-bebd-5aedd75e3fe9": {
     "id": "d43a289e-d4a7-4e53-bebd-5aedd75e3fe9",
     "prev": "f5a67f2d-e9d5-48dd-9deb-1f72352752f7",
     "regions": {
      "45edd65c-1b98-4d8b-b516-ec0d9d70400d": {
       "attrs": {
        "height": 0.8,
        "width": 0.8,
        "x": 0.1,
        "y": 0.1
       },
       "content": {
        "cell": "e177e4d9-9259-49ee-83fa-9588e5aab2f9",
        "part": "whole"
       },
       "id": "45edd65c-1b98-4d8b-b516-ec0d9d70400d"
      }
     }
    },
    "f5a67f2d-e9d5-48dd-9deb-1f72352752f7": {
     "id": "f5a67f2d-e9d5-48dd-9deb-1f72352752f7",
     "layout": "grid",
     "prev": null,
     "regions": {
      "44624bc4-41f1-4a20-94c9-6f8865fd95dd": {
       "attrs": {
        "height": 0.75,
        "pad": 0.01,
        "width": 0.9166666666666666,
        "x": 0,
        "y": 0.16666666666666666
       },
       "content": {
        "cell": "40b45abd-88cc-4dc0-bda5-1fe9c5c296c5",
        "part": "whole"
       },
       "id": "44624bc4-41f1-4a20-94c9-6f8865fd95dd"
      }
     }
    }
   },
   "themes": {}
  }
 },
 "nbformat": 4,
 "nbformat_minor": 2
}
